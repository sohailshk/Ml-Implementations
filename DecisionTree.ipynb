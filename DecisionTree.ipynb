{
  "nbformat": 4,
  "nbformat_minor": 0,
  "metadata": {
    "colab": {
      "provenance": [],
      "authorship_tag": "ABX9TyOLfLPc1rCSVJkErnkVxX+z",
      "include_colab_link": true
    },
    "kernelspec": {
      "name": "python3",
      "display_name": "Python 3"
    },
    "language_info": {
      "name": "python"
    }
  },
  "cells": [
    {
      "cell_type": "markdown",
      "metadata": {
        "id": "view-in-github",
        "colab_type": "text"
      },
      "source": [
        "<a href=\"https://colab.research.google.com/github/sohailshk/Ml-Implementations/blob/main/DecisionTree.ipynb\" target=\"_parent\"><img src=\"https://colab.research.google.com/assets/colab-badge.svg\" alt=\"Open In Colab\"/></a>"
      ]
    },
    {
      "cell_type": "code",
      "execution_count": 1,
      "metadata": {
        "id": "-zzAavY_VAP5"
      },
      "outputs": [],
      "source": [
        "import pandas as pd\n",
        "import numpy as np\n",
        "import matplotlib.pyplot as plt"
      ]
    },
    {
      "cell_type": "code",
      "source": [
        "X_train = np.array([[1, 1, 1],\n",
        "[0, 0, 1],\n",
        " [0, 1, 0],\n",
        " [1, 0, 1],\n",
        " [1, 1, 1],\n",
        " [1, 1, 0],\n",
        " [0, 0, 0],\n",
        " [1, 1, 0],\n",
        " [0, 1, 0],\n",
        " [0, 1, 0]])\n",
        "\n",
        "y_train = np.array([1, 1, 0, 0, 1, 1, 0, 1, 0, 0])"
      ],
      "metadata": {
        "id": "_UZBOCy45_nM"
      },
      "execution_count": 2,
      "outputs": []
    },
    {
      "cell_type": "code",
      "source": [
        "def entropy(p):\n",
        "    if p == 0 or p == 1:\n",
        "        return 0\n",
        "    else:\n",
        "        return -p * np.log2(p) - (1- p)*np.log2(1 - p)\n",
        "\n",
        "print(entropy(0.5))"
      ],
      "metadata": {
        "colab": {
          "base_uri": "https://localhost:8080/"
        },
        "id": "VGRmylyL6A7i",
        "outputId": "1611ef0a-37fd-4972-8fe0-980a092462b3"
      },
      "execution_count": 3,
      "outputs": [
        {
          "output_type": "stream",
          "name": "stdout",
          "text": [
            "1.0\n"
          ]
        }
      ]
    },
    {
      "cell_type": "code",
      "source": [
        "def split_indices(X, index_feature):\n",
        "    \"\"\"Given a dataset and a index feature, return two lists for the two split nodes, the left node has the animals that have\n",
        "    that feature = 1 and the right node those that have the feature = 0\n",
        "    index feature = 0 => ear shape\n",
        "    index feature = 1 => face shape\n",
        "    index feature = 2 => whiskers\n",
        "    \"\"\"\n",
        "    left_indices = []\n",
        "    right_indices = []\n",
        "    for i,x in enumerate(X):\n",
        "        if x[index_feature] == 1:\n",
        "            left_indices.append(i)\n",
        "        else:\n",
        "            right_indices.append(i)\n",
        "    return left_indices, right_indices"
      ],
      "metadata": {
        "id": "N1010F-r6Bal"
      },
      "execution_count": 7,
      "outputs": []
    },
    {
      "cell_type": "code",
      "source": [
        "split_indices(X_train, 0)"
      ],
      "metadata": {
        "colab": {
          "base_uri": "https://localhost:8080/"
        },
        "id": "HNlP-x9S6B7b",
        "outputId": "c6f65f1c-7bbd-4ae6-9461-35719d69c61f"
      },
      "execution_count": 8,
      "outputs": [
        {
          "output_type": "execute_result",
          "data": {
            "text/plain": [
              "([0, 3, 4, 5, 7], [1, 2, 6, 8, 9])"
            ]
          },
          "metadata": {},
          "execution_count": 8
        }
      ]
    },
    {
      "cell_type": "code",
      "source": [
        "def weighted_entropy(X,y,left_indices, right_indices):\n",
        "  w_left=len(left_indices)/len(X)\n",
        "  w_right=len(right_indices)/len(X)\n",
        "  p_left=sum(y[left_indices])/len(left_indices)\n",
        "  p_right=sum(y[right_indices])/len(right_indices)\n",
        "  weighted_entropy=w_left*entropy(p_left)+w_right*entropy(p_right)\n",
        "  return weighted_entropy"
      ],
      "metadata": {
        "id": "-Q_anAyl6QIN"
      },
      "execution_count": 9,
      "outputs": []
    },
    {
      "cell_type": "code",
      "source": [
        "left_indices, right_indices = split_indices(X_train, 0)\n",
        "weighted_entropy(X_train, y_train, left_indices, right_indices)"
      ],
      "metadata": {
        "colab": {
          "base_uri": "https://localhost:8080/"
        },
        "id": "vRwwQOc09JKK",
        "outputId": "218f9d91-5095-4ef5-9b9b-8e4e13eb0721"
      },
      "execution_count": 10,
      "outputs": [
        {
          "output_type": "execute_result",
          "data": {
            "text/plain": [
              "0.7219280948873623"
            ]
          },
          "metadata": {},
          "execution_count": 10
        }
      ]
    },
    {
      "cell_type": "code",
      "source": [
        "def information_gain(X, y, left_indices, right_indices):\n",
        "    p_node = sum(y)/len(y)\n",
        "    h_node = entropy(p_node)\n",
        "    w_entropy = weighted_entropy(X,y,left_indices,right_indices)\n",
        "    return h_node - w_entropy"
      ],
      "metadata": {
        "id": "wPavENZ79Jfy"
      },
      "execution_count": 11,
      "outputs": []
    },
    {
      "cell_type": "code",
      "source": [
        "information_gain(X_train, y_train, left_indices, right_indices)"
      ],
      "metadata": {
        "colab": {
          "base_uri": "https://localhost:8080/"
        },
        "id": "Mcrq0qfT9J2m",
        "outputId": "d9313d8b-67c3-4dd3-a9c2-99a1f195a654"
      },
      "execution_count": 12,
      "outputs": [
        {
          "output_type": "execute_result",
          "data": {
            "text/plain": [
              "0.2780719051126377"
            ]
          },
          "metadata": {},
          "execution_count": 12
        }
      ]
    },
    {
      "cell_type": "code",
      "source": [
        "for i, feature_name in enumerate(['Ear Shape', 'Face Shape', 'Whiskers']):\n",
        "    left_indices, right_indices = split_indices(X_train, i)\n",
        "    i_gain = information_gain(X_train, y_train, left_indices, right_indices)\n",
        "    print(f\"Feature: {feature_name}, information gain if we split the root node using this feature: {i_gain:.2f}\")\n",
        ""
      ],
      "metadata": {
        "colab": {
          "base_uri": "https://localhost:8080/"
        },
        "id": "NNRh8KuS96yv",
        "outputId": "2cb849ea-7ef9-497d-dea6-2012c8614009"
      },
      "execution_count": 13,
      "outputs": [
        {
          "output_type": "stream",
          "name": "stdout",
          "text": [
            "Feature: Ear Shape, information gain if we split the root node using this feature: 0.28\n",
            "Feature: Face Shape, information gain if we split the root node using this feature: 0.03\n",
            "Feature: Whiskers, information gain if we split the root node using this feature: 0.12\n"
          ]
        }
      ]
    },
    {
      "cell_type": "code",
      "source": [
        "tree = {\n",
        "    'feature_name': 'Ear Shape',\n",
        "    'feature_value': 1,\n",
        "    'information_gain': 0.23,\n",
        "    'left_child': {\n",
        "        'feature_name': 'Face Shape',\n",
        "        'feature_value': 0,\n",
        "        'information_gain': 0.12,\n",
        "        'left_child': {\n",
        "            'feature_name': 'Whiskers',\n",
        "            'feature_value': 1,\n",
        "            'information_gain': 0.05,\n",
        "            'left_child': None,\n",
        "            'right_child': None\n",
        "        },\n",
        "        'right_child': {\n",
        "            'feature_name': 'Whiskers',\n",
        "            'feature_value': 0,\n",
        "            'information_gain': 0.03,\n",
        "            'left_child': None,\n",
        "            'right_child': None\n",
        "        }\n",
        "    },\n",
        "    'right_child': {\n",
        "        'feature_name': 'Face Shape',\n",
        "        'feature_value': 1,\n",
        "        'information_gain': 0.15,\n",
        "        'left_child': {\n",
        "            'feature_name': 'Whiskers',\n",
        "            'feature_value': 1,\n",
        "            'information_gain': 0.08,\n",
        "            'left_child': None,\n",
        "            'right_child': None\n",
        "        },\n",
        "        'right_child': {\n",
        "            'feature_name': 'Whiskers',\n",
        "            'feature_value': 0,\n",
        "            'information_gain': 0.02,\n",
        "            'left_child': None,\n",
        "            'right_child': None\n",
        "        }\n",
        "    }\n",
        "}"
      ],
      "metadata": {
        "id": "vVb7I_rk97hE"
      },
      "execution_count": 16,
      "outputs": []
    },
    {
      "cell_type": "code",
      "source": [
        "def print_tree(node, level=0):\n",
        "    if node is None:\n",
        "        return\n",
        "\n",
        "    print(' ' * level + str(node['feature_name']) + ': ' + str(node['feature_value']))\n",
        "    print(' ' * level + 'Information Gain: ' + str(node['information_gain']))\n",
        "\n",
        "    if 'left_child' in node and node['left_child'] is not None:\n",
        "        print(' ' * level + 'Left Child:')\n",
        "        print_tree(node['left_child'], level + 1)\n",
        "\n",
        "    if 'right_child' in node and node['right_child'] is not None:\n",
        "        print(' ' * level + 'Right Child:')\n",
        "        print_tree(node['right_child'], level + 1)\n",
        "\n",
        "print_tree(tree)"
      ],
      "metadata": {
        "colab": {
          "base_uri": "https://localhost:8080/"
        },
        "id": "0LvWG2Df97XL",
        "outputId": "6d3d6c14-2765-4838-8801-02a5b3ad987f"
      },
      "execution_count": 17,
      "outputs": [
        {
          "output_type": "stream",
          "name": "stdout",
          "text": [
            "Ear Shape: 1\n",
            "Information Gain: 0.23\n",
            "Left Child:\n",
            " Face Shape: 0\n",
            " Information Gain: 0.12\n",
            " Left Child:\n",
            "  Whiskers: 1\n",
            "  Information Gain: 0.05\n",
            " Right Child:\n",
            "  Whiskers: 0\n",
            "  Information Gain: 0.03\n",
            "Right Child:\n",
            " Face Shape: 1\n",
            " Information Gain: 0.15\n",
            " Left Child:\n",
            "  Whiskers: 1\n",
            "  Information Gain: 0.08\n",
            " Right Child:\n",
            "  Whiskers: 0\n",
            "  Information Gain: 0.02\n"
          ]
        }
      ]
    }
  ]
}